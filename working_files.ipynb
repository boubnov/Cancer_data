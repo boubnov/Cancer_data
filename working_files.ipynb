{
 "cells": [
  {
   "cell_type": "code",
   "execution_count": 4,
   "metadata": {},
   "outputs": [],
   "source": [
    "import os"
   ]
  },
  {
   "cell_type": "code",
   "execution_count": 5,
   "metadata": {},
   "outputs": [
    {
     "name": "stdout",
     "output_type": "stream",
     "text": [
      "Stored 'GBM' (str)\n",
      "Stored 'GBM_CNV' (str)\n",
      "Stored 'GBM_methylation' (str)\n",
      "Stored 'GBM_miRNA' (str)\n",
      "Stored 'GBM_mRNA' (str)\n",
      "Stored 'GBM_OS' (str)\n",
      "Stored 'GBM_Survival' (str)\n"
     ]
    }
   ],
   "source": [
    "GBM=\"/Users/Boubnovski/data_cancer/input_parameters/Core_set/GBM/GBM_clinical_core.txt\"\n",
    "GBM_CNV=\"/Users/Boubnovski/data_cancer/input_parameters/Core_set/GBM/GBM_CNV_core.txt\"\n",
    "GBM_methylation=\"/Users/Boubnovski/data_cancer/input_parameters/Core_set/GBM/GBM_methylation_core.txt\"\n",
    "GBM_miRNA=\"/Users/Boubnovski/data_cancer/input_parameters/Core_set/GBM/GBM_miRNA_core.txt\"\n",
    "GBM_mRNA=\"/Users/Boubnovski/data_cancer/input_parameters/Core_set/GBM/GBM_mRNA_core.txt\"\n",
    "GBM_OS=\"/Users/Boubnovski/data_cancer/input_parameters/Core_set/GBM/GBM_OS_core.txt\"\n",
    "GBM_Survival=\"/Users/Boubnovski/data_cancer/input_parameters/Binary/GBM_binary_survival.txt\"\n",
    "%store GBM\n",
    "%store GBM_CNV\n",
    "%store GBM_methylation\n",
    "%store GBM_miRNA\n",
    "%store GBM_mRNA\n",
    "%store GBM_OS\n",
    "%store GBM_Survival"
   ]
  },
  {
   "cell_type": "code",
   "execution_count": null,
   "metadata": {},
   "outputs": [],
   "source": [
    "LUSC=\"/Users/Boubnovski/data_cancer/input_parameters/Core_set/LUSC/LUSC_clinical_core.txt\"\n",
    "LUSC_CNV=\"/Users/Boubnovski/data_cancer/input_parameters/Core_set/LUSC/LUSC_CNV_core.txt\"\n",
    "LUSC_miRNA=\"/Users/Boubnovski/data_cancer/input_parameters/Core_set/LUSC/LUSC_miRNA_core.txt\"\n",
    "LUSC_mRNA=\"/Users/Boubnovski/data_cancer/input_parameters/Core_set/LUSC/LUSC_mRNA_core.txt\"\n",
    "LUSC_OS=\"/Users/Boubnovski/data_cancer/input_parameters/Core_set/LUSC/LUSC_OS_core.txt\"\n",
    "LUSC_RPPA=\"/Users/Boubnovski/data_cancer/input_parameters/Core_set/LUSC/LUSC_RPPA_core.txt\"\n",
    "LUSC_Survival=\"/Users/Boubnovski/data_cancer/input_parameters/Binary/LUSC_binary_survival.txt\"\n",
    "%store LUSC\n",
    "%store LUSC_CNV\n",
    "%store LUSC_miRNA\n",
    "%store LUSC_mRNA\n",
    "%store LUSC_RPPA\n",
    "%store LUSC_Survival"
   ]
  },
  {
   "cell_type": "code",
   "execution_count": null,
   "metadata": {},
   "outputs": [],
   "source": [
    "KIRC=\"/Users/Boubnovski/data_cancer/input_parameters/Core_set/KIRC/KIRC_clinical_core.txt\"\n",
    "KIRC_CNV=\"/Users/Boubnovski/data_cancer/input_parameters/Core_set/KIRC/KIRC_CNV_core.txt\"\n",
    "KIRC_methylation=\"/Users/Boubnovski/data_cancer/input_parameters/Core_set/KIRC/KIRC_methylation_core.txt\"\n",
    "KIRC_miRNA=\"/Users/Boubnovski/data_cancer/input_parameters/Core_set/KIRC/KIRC_miRNA_core.txt\"\n",
    "KIRC_mRNA=\"/Users/Boubnovski/data_cancer/input_parameters/Core_set/KIRC/KIRC_mRNA_core.txt\"\n",
    "KIRC_OS=\"/Users/Boubnovski/data_cancer/input_parameters/Core_set/KIRC/KIRC_OS_core.txt\"\n",
    "KIRC_RPPA=\"/Users/Boubnovski/data_cancer/input_parameters/Core_set/KIRC/KIRC_RPPA_core.txt\"\n",
    "KIRC_Survival=\"/Users/Boubnovski/data_cancer/input_parameters/Binary/KIRC_binary_survival.txt\"\n",
    "%store KIRC\n",
    "%store KIRC_CNV\n",
    "%store KIRC_methylation\n",
    "%store KIRC_miRNA\n",
    "%store KIRC_mRNA\n",
    "%store KIRC_OS\n",
    "%store KIRC_RPPA\n",
    "%store KIRC_Survival\n"
   ]
  },
  {
   "cell_type": "code",
   "execution_count": null,
   "metadata": {},
   "outputs": [],
   "source": [
    "OV=\"/Users/Boubnovski/data_cancer/input_parameters/Core_set/OV/OV_clinical_core.txt\"\n",
    "OV_CNV=\"/Users/Boubnovski/data_cancer/input_parameters/Core_set/OV/OV_CNV_core.txt\"\n",
    "OV_methylation=\"/Users/Boubnovski/data_cancer/input_parameters/Core_set/OV/OV_methylation_core.txt\"\n",
    "OV_miRNA=\"/Users/Boubnovski/data_cancer/input_parameters/Core_set/OV/OV_miRNA_core.txt\"\n",
    "OV_mRNA=\"/Users/Boubnovski/data_cancer/input_parameters/Core_set/OV/OV_mRNA_core.txt\"\n",
    "OV_core=\"/Users/Boubnovski/data_cancer/input_parameters/Core_set/OV/OV_OS_core.txt\"\n",
    "OV_RPPA=\"/Users/Boubnovski/data_cancer/input_parameters/Core_set/OV/OV_RPPA_core.txt\"\n",
    "OV_Survival=\"/Users/Boubnovski/data_cancer/input_parameters/Binary/OV_binary_survival.txt\"\n",
    "%store OV\n",
    "%store OV_CNV\n",
    "%store OV_methylation\n",
    "%store OV_miRNA\n",
    "%store OV_mRNA\n",
    "%store OV_core\n",
    "%store OV_RPPA\n",
    "%store OV_Survival"
   ]
  }
 ],
 "metadata": {
  "kernelspec": {
   "display_name": "Python 3",
   "language": "python",
   "name": "python3"
  },
  "language_info": {
   "codemirror_mode": {
    "name": "ipython",
    "version": 3
   },
   "file_extension": ".py",
   "mimetype": "text/x-python",
   "name": "python",
   "nbconvert_exporter": "python",
   "pygments_lexer": "ipython3",
   "version": "3.6.2"
  }
 },
 "nbformat": 4,
 "nbformat_minor": 2
}
